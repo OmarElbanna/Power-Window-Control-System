{
  "nbformat": 4,
  "nbformat_minor": 0,
  "metadata": {
    "colab": {
      "provenance": [],
      "authorship_tag": "ABX9TyOLhk5cnXxARQmQ80bdPkHv",
      "include_colab_link": true
    },
    "kernelspec": {
      "name": "python3",
      "display_name": "Python 3"
    },
    "language_info": {
      "name": "python"
    }
  },
  "cells": [
    {
      "cell_type": "markdown",
      "metadata": {
        "id": "view-in-github",
        "colab_type": "text"
      },
      "source": [
        "<a href=\"https://colab.research.google.com/github/OmarElbanna/Power-Window-Control-System/blob/main/Learning_Rate_Analysis.ipynb\" target=\"_parent\"><img src=\"https://colab.research.google.com/assets/colab-badge.svg\" alt=\"Open In Colab\"/></a>"
      ]
    },
    {
      "cell_type": "code",
      "execution_count": null,
      "metadata": {
        "id": "GVCNDxoSjcjy"
      },
      "outputs": [],
      "source": [
        "from Dataset_Loader import load_leafs_dataset\n",
        "from Training import train_cnn\n",
        "from Model_Evaluation import evaluate_model_with_outputs\n",
        "\n",
        "from torch import nn, optim, manual_seed, flatten\n",
        "from Util import apply_conv, apply_pool\n",
        "import matplotlib.pyplot as plt\n",
        "from time import time"
      ]
    },
    {
      "cell_type": "code",
      "source": [
        "batch_size = 20\n",
        "test_split_size = 0.2\n",
        "\n",
        "images_train, images_test, labels_train, labels_test = load_leafs_dataset(\n",
        "    test_split_size,\n",
        "    batch_size\n",
        ")"
      ],
      "metadata": {
        "id": "jgBrhhJKjgNg"
      },
      "execution_count": null,
      "outputs": []
    },
    {
      "cell_type": "code",
      "source": [
        "class CNN(nn.Module):\n",
        "    def __init__(self):\n",
        "        super().__init__()\n",
        "        width = 1633\n",
        "        height = 1089\n",
        "        self.pool1, width, height = apply_pool(width, height, kernel_size=2, stride=2)\n",
        "        self.pool2, width, height = apply_pool(width, height, kernel_size=2, stride=2)\n",
        "        self.pool3, width, height = apply_pool(width, height, kernel_size=2, stride=2)\n",
        "\n",
        "        self.conv1, width, height = apply_conv(width, height, 1, 6, kernel_size=3, stride=1, padding=1)\n",
        "        self.pool4, width, height = apply_pool(width, height, kernel_size=2, stride=2)\n",
        "\n",
        "        self.conv2, width, height = apply_conv(width, height, 6, 16, kernel_size=3, stride=1, padding=1)\n",
        "        self.pool5, width, height = apply_pool(width, height, kernel_size=2, stride=2)\n",
        "\n",
        "        self.fc1 = nn.Linear(16*width*height, 1000)\n",
        "        self.fc2 = nn.Linear(1000, 99)\n",
        "\n",
        "    def forward(self, x):\n",
        "        x = self.pool1(x)\n",
        "        x = self.pool2(x)\n",
        "        x = self.pool3(x)\n",
        "\n",
        "        x = nn.functional.relu(self.conv1(x))\n",
        "        x = self.pool4(x)\n",
        "\n",
        "        x = nn.functional.relu(self.conv2(x))\n",
        "        x = self.pool5(x)\n",
        "\n",
        "        x = flatten(x, 1)\n",
        "        x = nn.functional.relu(self.fc1(x))\n",
        "        x = nn.functional.log_softmax(self.fc2(x), dim=1)\n",
        "        return x"
      ],
      "metadata": {
        "id": "qPLb8HS5jkOb"
      },
      "execution_count": null,
      "outputs": []
    },
    {
      "cell_type": "markdown",
      "source": [
        "# Static Learning Rate Analysis"
      ],
      "metadata": {
        "id": "V4BE1gN7js-x"
      }
    },
    {
      "cell_type": "code",
      "source": [
        "lr_list = [\n",
        "    0.0001, 0.001, 0.01, 0.1\n",
        "]\n",
        "fig = plt.figure(figsize=(19, 15))\n",
        "\n",
        "for i in range(0, len(lr_list)):\n",
        "    print(f'Analysing Learning Rate {lr_list[i]}...')\n",
        "    manual_seed(1)\n",
        "    model = CNN()\n",
        "    epochs = 10\n",
        "    initial_train_accuracy = evaluate_model_with_outputs(model, images_train, labels_train, batch_size, 0)\n",
        "    initial_test_accuracy = evaluate_model_with_outputs(model, images_test, labels_test, batch_size, 1)\n",
        "\n",
        "    trained_model, losses_train, accuracies_train, accuracies_test = train_cnn(\n",
        "        model=model,\n",
        "        images_train=images_train,\n",
        "        labels_train=labels_train,\n",
        "        images_test=images_test,\n",
        "        labels_test=labels_test,\n",
        "        epochs=epochs,\n",
        "        batch_size=batch_size,\n",
        "        lossFunction=nn.CrossEntropyLoss(),\n",
        "        optimizer=optim.Adam(model.parameters(), lr_list[i], weight_decay=0.1),\n",
        "        print_loss=True,\n",
        "        calc_accuracy=True\n",
        "    )\n",
        "\n",
        "\n",
        "    accuracies_train.insert(0, initial_train_accuracy)\n",
        "    accuracies_test.insert(0, initial_test_accuracy)\n",
        "\n",
        "    rng_x = range(epochs+1)\n",
        "    rng_y = range(0, 100, 5)\n",
        "\n",
        "    ax = fig.add_subplot(231 + i)\n",
        "    ax.set_title(f'Learning: {lr_list[i]}')\n",
        "    plt.tight_layout()\n",
        "    plt.plot(rng_x, accuracies_train, label='Training')\n",
        "    plt.plot(rng_x, accuracies_test, label='Testing')\n",
        "    plt.xlabel('Epoch')\n",
        "    plt.xticks(rng_x, rng_x)\n",
        "    plt.ylabel('Accuracy')\n",
        "    plt.yticks(rng_y, rng_y)\n",
        "    plt.grid()\n",
        "    plt.legend()\n",
        "plt.show()"
      ],
      "metadata": {
        "id": "FFYA3zbvjmz1"
      },
      "execution_count": null,
      "outputs": []
    },
    {
      "cell_type": "markdown",
      "source": [
        "# Learning Rate Scheduler Analysis"
      ],
      "metadata": {
        "id": "5EDchz0zkJzb"
      }
    },
    {
      "cell_type": "code",
      "source": [
        "def train_cnn(\n",
        "        model,\n",
        "        images_train,\n",
        "        labels_train,\n",
        "        images_test,\n",
        "        labels_test,\n",
        "        epochs,\n",
        "        batch_size,\n",
        "        lossFunction,\n",
        "        optimizer,\n",
        "        print_loss=False,\n",
        "        calc_accuracy=True,\n",
        "):\n",
        "    losses_train = []\n",
        "    accuracies_train = []\n",
        "    accuracies_test = []\n",
        "    scheduler = StepLR(optimizer, step_size =2, gamma=0.1)\n",
        "\n",
        "    for i in range(epochs):\n",
        "        losses_batch = []\n",
        "        for b in range(len(images_train)):\n",
        "            y_pred = model.forward(images_train[b])\n",
        "\n",
        "            loss_train = lossFunction(y_pred, labels_train[b])\n",
        "            losses_batch.append(loss_train.detach().numpy())\n",
        "\n",
        "            optimizer.zero_grad()\n",
        "            loss_train.backward()\n",
        "            optimizer.step()\n",
        "        losses_train.append(losses_batch)\n",
        "\n",
        "        if print_loss:\n",
        "            print(f'Epoch: {i} / loss: {loss_train}')\n",
        "\n",
        "        if calc_accuracy:\n",
        "            accuracies_train.append(\n",
        "                evaluate_model_with_outputs(model, images_train, labels_train, batch_size, 0) * 100\n",
        "            )\n",
        "            accuracies_test.append(\n",
        "                evaluate_model_with_outputs(model, images_test, labels_test, batch_size, 1) * 100\n",
        "            )\n",
        "        scheduler.step()\n",
        "\n",
        "    return model, losses_train, accuracies_train, accuracies_test"
      ],
      "metadata": {
        "id": "I4bkRz1pj7hA"
      },
      "execution_count": null,
      "outputs": []
    },
    {
      "cell_type": "code",
      "source": [
        "lr_list = [\n",
        "    0.0001, 0.001, 0.01, 0.1\n",
        "]\n",
        "fig = plt.figure(figsize=(19, 15))\n",
        "\n",
        "for i in range(0, len(lr_list)):\n",
        "    print(f'Analysing Learning Rate {lr_list[i]}...')\n",
        "    manual_seed(1)\n",
        "    model = CNN()\n",
        "    epochs = 10\n",
        "    initial_train_accuracy = evaluate_model_with_outputs(model, images_train, labels_train, batch_size, 0)\n",
        "    initial_test_accuracy = evaluate_model_with_outputs(model, images_test, labels_test, batch_size, 1)\n",
        "\n",
        "    trained_model, losses_train, accuracies_train, accuracies_test = train_cnn(\n",
        "        model=model,\n",
        "        images_train=images_train,\n",
        "        labels_train=labels_train,\n",
        "        images_test=images_test,\n",
        "        labels_test=labels_test,\n",
        "        epochs=epochs,\n",
        "        batch_size=batch_size,\n",
        "        lossFunction=nn.CrossEntropyLoss(),\n",
        "        optimizer=optim.Adam(model.parameters(), lr_list[i], weight_decay=0.1),\n",
        "        print_loss=True,\n",
        "        calc_accuracy=True\n",
        "    )\n",
        "\n",
        "\n",
        "    accuracies_train.insert(0, initial_train_accuracy)\n",
        "    accuracies_test.insert(0, initial_test_accuracy)\n",
        "\n",
        "    rng_x = range(epochs+1)\n",
        "    rng_y = range(0, 100, 5)\n",
        "\n",
        "    ax = fig.add_subplot(231 + i)\n",
        "    ax.set_title(f'Learning: {lr_list[i]}')\n",
        "    plt.tight_layout()\n",
        "    plt.plot(rng_x, accuracies_train, label='Training')\n",
        "    plt.plot(rng_x, accuracies_test, label='Testing')\n",
        "    plt.xlabel('Epoch')\n",
        "    plt.xticks(rng_x, rng_x)\n",
        "    plt.ylabel('Accuracy')\n",
        "    plt.yticks(rng_y, rng_y)\n",
        "    plt.grid()\n",
        "    plt.legend()\n",
        "plt.show()"
      ],
      "metadata": {
        "id": "8r6cR6iDkFZk"
      },
      "execution_count": null,
      "outputs": []
    }
  ]
}